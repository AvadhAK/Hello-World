{
  "nbformat": 4,
  "nbformat_minor": 0,
  "metadata": {
    "colab": {
      "provenance": [],
      "include_colab_link": true
    },
    "kernelspec": {
      "name": "python3",
      "display_name": "Python 3"
    },
    "language_info": {
      "name": "python"
    }
  },
  "cells": [
    {
      "cell_type": "markdown",
      "metadata": {
        "id": "view-in-github",
        "colab_type": "text"
      },
      "source": [
        "<a href=\"https://colab.research.google.com/github/AvadhAK/Hello-World/blob/master/REF.ipynb\" target=\"_parent\"><img src=\"https://colab.research.google.com/assets/colab-badge.svg\" alt=\"Open In Colab\"/></a>"
      ]
    },
    {
      "cell_type": "code",
      "source": [
        "import numpy as np"
      ],
      "metadata": {
        "id": "s-cc_MYIFOxr"
      },
      "execution_count": 1,
      "outputs": []
    },
    {
      "cell_type": "code",
      "execution_count": 45,
      "metadata": {
        "id": "HRrV5Q-NKsX3",
        "outputId": "c04461ec-96cb-48e1-e982-08b53439a220",
        "colab": {
          "base_uri": "https://localhost:8080/"
        }
      },
      "outputs": [
        {
          "output_type": "stream",
          "name": "stdout",
          "text": [
            "[[6 5 1 3]\n",
            " [2 9 3 5]\n",
            " [8 7 1 6]]\n"
          ]
        }
      ],
      "source": [
        "# prompt: generate random array of vectors (integer) of size m*n and print\n",
        "\n",
        "m = 3\n",
        "n = 4\n",
        "l = 1\n",
        "A = np.random.randint(0, 10.0, size=(m, n))\n",
        "B = np.random.randint(0,10.0, size=(m,l))\n",
        "print(A)\n",
        "\n"
      ]
    },
    {
      "cell_type": "code",
      "source": [
        "print(B)"
      ],
      "metadata": {
        "id": "LoV6kgj8FEVT",
        "outputId": "07a28d47-ad87-48d2-8a3c-6cb6e056c4ff",
        "colab": {
          "base_uri": "https://localhost:8080/"
        }
      },
      "execution_count": 37,
      "outputs": [
        {
          "output_type": "stream",
          "name": "stdout",
          "text": [
            "[[9]\n",
            " [6]\n",
            " [4]]\n"
          ]
        }
      ]
    },
    {
      "cell_type": "code",
      "source": [
        "A = np.array([[2, 3, 4, 5, 6,7, 8],\n",
        "              [4, 2, 5, 6, 44, 32, 2],\n",
        "              [-1, 2, 2, 3,4,23, 22],\n",
        "              [-10, 22, 21, 34,42,24, 28],\n",
        "              [-11, 23, 25, 32,47,27, 29]])\n",
        "\n",
        "B = np.array([[8],\n",
        "              [-11],\n",
        "              [-3],\n",
        "              [5],\n",
        "              [7]])\n",
        "A = np.hstack((A,B))\n",
        "\n",
        "print(A)"
      ],
      "metadata": {
        "id": "2shH-YbzIHUT",
        "colab": {
          "base_uri": "https://localhost:8080/"
        },
        "outputId": "c5b7046c-4e53-4e10-f7ac-184830e9b385"
      },
      "execution_count": 251,
      "outputs": [
        {
          "output_type": "stream",
          "name": "stdout",
          "text": [
            "[[  2   3   4   5   6   7   8   8]\n",
            " [  4   2   5   6  44  32   2 -11]\n",
            " [ -1   2   2   3   4  23  22  -3]\n",
            " [-10  22  21  34  42  24  28   5]\n",
            " [-11  23  25  32  47  27  29   7]]\n"
          ]
        }
      ]
    },
    {
      "cell_type": "code",
      "source": [
        "A[1, :] + A[0,:]*3/2"
      ],
      "metadata": {
        "id": "dtzd-V_iFpsL",
        "outputId": "5435fb33-9ca3-4038-b94b-ad96d6311541",
        "colab": {
          "base_uri": "https://localhost:8080/"
        }
      },
      "execution_count": 9,
      "outputs": [
        {
          "output_type": "execute_result",
          "data": {
            "text/plain": [
              "array([14.5, 10.5,  9. , 10.5])"
            ]
          },
          "metadata": {},
          "execution_count": 9
        }
      ]
    },
    {
      "cell_type": "code",
      "source": [
        "A.shape[0]"
      ],
      "metadata": {
        "id": "OgrIqKVSJlLE",
        "outputId": "06f07488-015b-4411-91eb-8d9055cd5c9c",
        "colab": {
          "base_uri": "https://localhost:8080/"
        }
      },
      "execution_count": 13,
      "outputs": [
        {
          "output_type": "execute_result",
          "data": {
            "text/plain": [
              "3"
            ]
          },
          "metadata": {},
          "execution_count": 13
        }
      ]
    },
    {
      "cell_type": "code",
      "source": [
        "def add_two_rows(A,r1,r2,s):\n",
        "  A[r2, :] = A[r2, :] + A[r1, :] * s\n",
        "  print(\"Adding\")\n",
        "  return A\n"
      ],
      "metadata": {
        "id": "HNYccP4CFU2a"
      },
      "execution_count": 135,
      "outputs": []
    },
    {
      "cell_type": "code",
      "source": [
        "def swap_two_rows(A,r1,r2):\n",
        "\n",
        "  A[[r2, r1]] = A[[r1, r2]]\n",
        "  print(\"Swapping\")\n",
        "  return A\n"
      ],
      "metadata": {
        "id": "yCY-uqITpA9J"
      },
      "execution_count": 147,
      "outputs": []
    },
    {
      "cell_type": "code",
      "source": [
        "def REF(A):\n",
        "  for i in range(A.shape[1]):\n",
        "    for j in range(i, A.shape[0]-1):\n",
        "      # print(\"Cell Element: \", A[j][i])\n",
        "      if A[j][i] == 0:\n",
        "        l = j+1;\n",
        "        while l<A.shape[0]:\n",
        "          if A[l][i] != 0:\n",
        "            A = swap_two_rows(A, j, l)\n",
        "            j=j-1;\n",
        "            l=A.shape[0];\n",
        "            break;\n",
        "          l+=1;\n",
        "          # print(\"L iteration:\", l)\n",
        "\n",
        "      A = add_two_rows(A,i,j+1,-A[j+1][i]/A[i][i]) #A,0,2,-(-2)/\n",
        "\n",
        "  print(A)\n",
        "  return A"
      ],
      "metadata": {
        "id": "X0M57BAEKokL"
      },
      "execution_count": 237,
      "outputs": []
    },
    {
      "cell_type": "code",
      "source": [
        "def RREF(A):\n",
        "  for i in range(A.shape[1]):\n",
        "    if i<A.shape[0]:\n",
        "      if A[i][i] == 0:\n",
        "        break;\n",
        "      else:\n",
        "        A[i,:] = A[i,:]/A[i][i]\n",
        "\n",
        "  print(A)\n",
        "  return A"
      ],
      "metadata": {
        "id": "CN6q9UQ7tyUE"
      },
      "execution_count": 252,
      "outputs": []
    },
    {
      "cell_type": "code",
      "source": [
        "REF_matrix = REF(A)"
      ],
      "metadata": {
        "colab": {
          "base_uri": "https://localhost:8080/"
        },
        "id": "E0yQPjkkgUhG",
        "outputId": "99148629-10b2-4ff1-d0d8-f8e4cf7b6369"
      },
      "execution_count": 253,
      "outputs": [
        {
          "output_type": "stream",
          "name": "stdout",
          "text": [
            "Adding\n",
            "Swapping\n",
            "Adding\n",
            "Swapping\n",
            "Adding\n",
            "Swapping\n",
            "Adding\n",
            "Adding\n",
            "Swapping\n",
            "Adding\n",
            "Swapping\n",
            "Adding\n",
            "Adding\n",
            "Swapping\n",
            "Adding\n",
            "Adding\n",
            "[[   2    3    4    5    6    7    8    8]\n",
            " [   0    3    4    5    7   26   26    1]\n",
            " [   0    0   -5   -6  -11 -273 -265   38]\n",
            " [   0    0    0    7    3  175  172  -28]\n",
            " [   0    0    0    0   36  -57  -86   -9]]\n"
          ]
        }
      ]
    },
    {
      "cell_type": "code",
      "source": [
        "RREF_matrix = RREF(A)"
      ],
      "metadata": {
        "id": "O_u_z52c5Y3k",
        "outputId": "5d72af41-fd72-4d55-cf1c-9f6c5eadda02",
        "colab": {
          "base_uri": "https://localhost:8080/"
        }
      },
      "execution_count": 254,
      "outputs": [
        {
          "output_type": "stream",
          "name": "stdout",
          "text": [
            "[[ 1  1  2  2  3  3  4  4]\n",
            " [ 0  1  1  1  2  8  8  0]\n",
            " [ 0  0  1  1  2 54 53 -7]\n",
            " [ 0  0  0  1  0 25 24 -4]\n",
            " [ 0  0  0  0  1 -1 -2  0]]\n"
          ]
        }
      ]
    },
    {
      "cell_type": "code",
      "source": [
        "def pivot_and_nonpivot_columns(A):\n",
        "  non_pivot_column = [] ;\n",
        "  pivot_column = [] ;\n",
        "  rows = A.shape[0]\n",
        "  for i in range(A.shape[1]):\n",
        "    if i<rows and A[i][i] == 1:\n",
        "      pivot_column.append(i);\n",
        "    else:\n",
        "      non_pivot_column.append(i);\n",
        "\n",
        "  return pivot_column, non_pivot_column;\n",
        "\n"
      ],
      "metadata": {
        "id": "L01vAtjsBf2B"
      },
      "execution_count": 255,
      "outputs": []
    },
    {
      "cell_type": "code",
      "source": [
        "pivot_column, non_pivot_column = pivot_and_nonpivot_columns(A)\n",
        "print(\"Pivot columns: \", pivot_column, \" and Non Pivot columns: \", non_pivot_column);"
      ],
      "metadata": {
        "id": "fM3sXMsTCN6K",
        "outputId": "7b631779-86ea-45df-a7ad-f832a744abf2",
        "colab": {
          "base_uri": "https://localhost:8080/"
        }
      },
      "execution_count": 256,
      "outputs": [
        {
          "output_type": "stream",
          "name": "stdout",
          "text": [
            "Pivot columns:  [0, 1, 2, 3, 4]  and Non Pivot columns:  [5, 6, 7]\n"
          ]
        }
      ]
    },
    {
      "cell_type": "code",
      "source": [
        "def particular_sol(A):\n",
        "  b_matrix = A[:, -1]\n",
        "  Col = A.shape[1]\n",
        "  particular_sol = [0] * Col\n",
        "  for i, col in enumerate(pivot_column):\n",
        "      particular_sol[col] = b_matrix[i]\n",
        "\n",
        "  return particular_sol\n"
      ],
      "metadata": {
        "id": "JqR0KEmcIVUL"
      },
      "execution_count": 257,
      "outputs": []
    },
    {
      "cell_type": "code",
      "source": [
        "p_sol= particular_sol(A)\n",
        "print(\"Particular Solution for matrix A: \", p_sol)"
      ],
      "metadata": {
        "id": "wnjFqcTyIjlc",
        "outputId": "beb2efca-72a3-424a-82cc-c0109a55c5b5",
        "colab": {
          "base_uri": "https://localhost:8080/"
        }
      },
      "execution_count": 258,
      "outputs": [
        {
          "output_type": "stream",
          "name": "stdout",
          "text": [
            "Particular Solution for matrix A:  [4, 0, -7, -4, 0, 0, 0, 0]\n"
          ]
        }
      ]
    }
  ]
}