{
  "nbformat": 4,
  "nbformat_minor": 0,
  "metadata": {
    "colab": {
      "provenance": [],
      "include_colab_link": true
    },
    "kernelspec": {
      "name": "python3",
      "display_name": "Python 3"
    },
    "language_info": {
      "name": "python"
    }
  },
  "cells": [
    {
      "cell_type": "markdown",
      "metadata": {
        "id": "view-in-github",
        "colab_type": "text"
      },
      "source": [
        "<a href=\"https://colab.research.google.com/github/AvadhAK/Hello-World/blob/master/REF.ipynb\" target=\"_parent\"><img src=\"https://colab.research.google.com/assets/colab-badge.svg\" alt=\"Open In Colab\"/></a>"
      ]
    },
    {
      "cell_type": "code",
      "source": [
        "import numpy as np"
      ],
      "metadata": {
        "id": "s-cc_MYIFOxr"
      },
      "execution_count": 1,
      "outputs": []
    },
    {
      "cell_type": "code",
      "execution_count": 36,
      "metadata": {
        "id": "HRrV5Q-NKsX3",
        "outputId": "577b7176-5406-4f2b-c2e7-bb8e2bffc1b2",
        "colab": {
          "base_uri": "https://localhost:8080/"
        }
      },
      "outputs": [
        {
          "output_type": "stream",
          "name": "stdout",
          "text": [
            "[[3 3 8 9]\n",
            " [2 5 9 1]\n",
            " [1 8 7 9]]\n"
          ]
        }
      ],
      "source": [
        "# prompt: generate random array of vectors (integer) of size m*n and print\n",
        "\n",
        "m = 3\n",
        "n = 4\n",
        "l = 1\n",
        "A = np.random.randint(0, 10.0, size=(m, n))\n",
        "B = np.random.randint(0,10.0, size=(m,l))\n",
        "print(A)\n",
        "\n"
      ]
    },
    {
      "cell_type": "code",
      "source": [
        "print(B)"
      ],
      "metadata": {
        "id": "LoV6kgj8FEVT",
        "outputId": "07a28d47-ad87-48d2-8a3c-6cb6e056c4ff",
        "colab": {
          "base_uri": "https://localhost:8080/"
        }
      },
      "execution_count": 37,
      "outputs": [
        {
          "output_type": "stream",
          "name": "stdout",
          "text": [
            "[[9]\n",
            " [6]\n",
            " [4]]\n"
          ]
        }
      ]
    },
    {
      "cell_type": "code",
      "source": [
        "A = np.array([[2.0, 1, -1],\n",
        "              [-3, -1, 2],\n",
        "              [-2, 1, 2]])\n",
        "\n",
        "B = np.array([[8],\n",
        "              [-11],\n",
        "              [-3]])\n"
      ],
      "metadata": {
        "id": "2shH-YbzIHUT"
      },
      "execution_count": 28,
      "outputs": []
    },
    {
      "cell_type": "code",
      "source": [
        "A[1, :] + A[0,:]*3/2"
      ],
      "metadata": {
        "id": "dtzd-V_iFpsL",
        "outputId": "5435fb33-9ca3-4038-b94b-ad96d6311541",
        "colab": {
          "base_uri": "https://localhost:8080/"
        }
      },
      "execution_count": 9,
      "outputs": [
        {
          "output_type": "execute_result",
          "data": {
            "text/plain": [
              "array([14.5, 10.5,  9. , 10.5])"
            ]
          },
          "metadata": {},
          "execution_count": 9
        }
      ]
    },
    {
      "cell_type": "code",
      "source": [
        "A.shape[0]"
      ],
      "metadata": {
        "id": "OgrIqKVSJlLE",
        "outputId": "06f07488-015b-4411-91eb-8d9055cd5c9c",
        "colab": {
          "base_uri": "https://localhost:8080/"
        }
      },
      "execution_count": 13,
      "outputs": [
        {
          "output_type": "execute_result",
          "data": {
            "text/plain": [
              "3"
            ]
          },
          "metadata": {},
          "execution_count": 13
        }
      ]
    },
    {
      "cell_type": "code",
      "source": [
        "def add_two_rows(A,r1,r2,s):\n",
        "  A[r2, :] = A[r2, :] + A[r1, :] * s\n",
        "  return A\n"
      ],
      "metadata": {
        "id": "HNYccP4CFU2a"
      },
      "execution_count": 14,
      "outputs": []
    },
    {
      "cell_type": "code",
      "source": [],
      "metadata": {
        "id": "NErfm2STpUpq"
      },
      "execution_count": null,
      "outputs": []
    },
    {
      "cell_type": "code",
      "source": [
        "def swap_two_rows(A,r1,r2,s):\n",
        "  Temp[]\n",
        "  A[r2, :] = A[r1, :]\n",
        "  return A\n"
      ],
      "metadata": {
        "id": "yCY-uqITpA9J"
      },
      "execution_count": null,
      "outputs": []
    },
    {
      "cell_type": "code",
      "source": [
        "def REF(A):\n",
        "  for i in range(A.shape[1]):\n",
        "    for j in range(i, A.shape[0]-1):\n",
        "      A = add_two_rows(A,i,j+1,-A[j+1][i]/A[i][i]) #A,0,2,-(-2)/\n",
        "  print(A)\n",
        "  return A"
      ],
      "metadata": {
        "id": "X0M57BAEKokL"
      },
      "execution_count": 38,
      "outputs": []
    },
    {
      "cell_type": "code",
      "source": [
        "C=REF(A)"
      ],
      "metadata": {
        "id": "E0yQPjkkgUhG",
        "outputId": "6a4b5ef4-6e76-4749-e3e0-c409f37e259b",
        "colab": {
          "base_uri": "https://localhost:8080/"
        }
      },
      "execution_count": 39,
      "outputs": [
        {
          "output_type": "stream",
          "name": "stdout",
          "text": [
            "[[ 3  3  8  9]\n",
            " [ 0  3  3 -5]\n",
            " [ 0  0 -3 17]]\n"
          ]
        }
      ]
    },
    {
      "cell_type": "code",
      "source": [
        "for i in range(A.shape[1]):\n",
        "  for j in range(A.shape[0]):\n",
        "      A = add_two_rows(A,j,j+1)\n",
        "      print(A[j,:])"
      ],
      "metadata": {
        "id": "yT8T4L_oHnGL",
        "outputId": "6a93ee27-71a9-48a0-f83f-7a1d379aacf0",
        "colab": {
          "base_uri": "https://localhost:8080/"
        }
      },
      "execution_count": null,
      "outputs": [
        {
          "output_type": "stream",
          "name": "stdout",
          "text": [
            "[ 2  1 -1]\n",
            "[-3 -1  2]\n",
            "[-2  1  2]\n",
            "[ 2  1 -1]\n",
            "[-3 -1  2]\n",
            "[-2  1  2]\n",
            "[ 2  1 -1]\n",
            "[-3 -1  2]\n",
            "[-2  1  2]\n"
          ]
        }
      ]
    },
    {
      "cell_type": "code",
      "source": [
        "def ref(matrix):\n",
        "    m = matrix.astype(float)\n",
        "    rows, cols = m.shape\n",
        "    lead = 0\n",
        "\n",
        "    for r in range(rows):\n",
        "        if lead >= cols:\n",
        "            return m\n",
        "        i = r\n",
        "        while m[i, lead] == 0:\n",
        "            i += 1\n",
        "            if i == rows:\n",
        "                i = r\n",
        "                lead += 1\n",
        "                if cols == lead:\n",
        "                    return m\n",
        "        m[[i, r]] = m[[r, i]]\n",
        "        lv = m[r, lead]\n",
        "        m[r] = m[r] / lv\n",
        "        for i in range(rows):\n",
        "            if i != r:\n",
        "                lv = m[i, lead]\n",
        "                m[i] -= lv * m[r]\n",
        "        lead += 1\n",
        "\n",
        "    return m\n",
        "\n",
        "# Example matrix\n",
        "matrix = np.array([\n",
        "    [3.0, 3, 8, 9],\n",
        "    [2, 5, 9, 1],\n",
        "    [1, 8, 7, 9]\n",
        "])\n",
        "\n",
        "result = ref(matrix)\n",
        "print(\"Row Echelon Form:\")\n",
        "print(result)\n"
      ],
      "metadata": {
        "id": "gcZo5lQ7hKq_",
        "outputId": "fc08e6f0-5ff1-4698-800e-552a64910ce9",
        "colab": {
          "base_uri": "https://localhost:8080/"
        }
      },
      "execution_count": 43,
      "outputs": [
        {
          "output_type": "stream",
          "name": "stdout",
          "text": [
            "Row Echelon Form:\n",
            "[[ 1.          0.          0.         10.71052632]\n",
            " [ 0.          1.          0.          3.44736842]\n",
            " [-0.         -0.          1.         -4.18421053]]\n"
          ]
        }
      ]
    },
    {
      "cell_type": "code",
      "source": [],
      "metadata": {
        "id": "yj_zwCk5hkiq"
      },
      "execution_count": null,
      "outputs": []
    }
  ]
}