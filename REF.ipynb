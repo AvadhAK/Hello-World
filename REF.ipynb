{
  "nbformat": 4,
  "nbformat_minor": 0,
  "metadata": {
    "colab": {
      "provenance": [],
      "include_colab_link": true
    },
    "kernelspec": {
      "name": "python3",
      "display_name": "Python 3"
    },
    "language_info": {
      "name": "python"
    }
  },
  "cells": [
    {
      "cell_type": "markdown",
      "metadata": {
        "id": "view-in-github",
        "colab_type": "text"
      },
      "source": [
        "<a href=\"https://colab.research.google.com/github/AvadhAK/Hello-World/blob/master/REF.ipynb\" target=\"_parent\"><img src=\"https://colab.research.google.com/assets/colab-badge.svg\" alt=\"Open In Colab\"/></a>"
      ]
    },
    {
      "cell_type": "code",
      "source": [
        "import numpy as np"
      ],
      "metadata": {
        "id": "s-cc_MYIFOxr"
      },
      "execution_count": 1,
      "outputs": []
    },
    {
      "cell_type": "code",
      "execution_count": 2,
      "metadata": {
        "id": "HRrV5Q-NKsX3",
        "outputId": "77e9bbb2-93d1-4b5d-cbae-3ee55f9d6127",
        "colab": {
          "base_uri": "https://localhost:8080/"
        }
      },
      "outputs": [
        {
          "output_type": "stream",
          "name": "stdout",
          "text": [
            "[[5 7 9 7]\n",
            " [3 4 7 9]\n",
            " [1 1 8 1]]\n"
          ]
        }
      ],
      "source": [
        "# prompt: generate random array of vectors (integer) of size m*n and print\n",
        "\n",
        "m = 3\n",
        "n = 4\n",
        "l = 1\n",
        "A = np.random.randint(0, 10.0, size=(m, n))\n",
        "B = np.random.randint(0,10.0, size=(m,l))\n",
        "print(A)\n",
        "\n"
      ]
    },
    {
      "cell_type": "code",
      "source": [
        "print(B)"
      ],
      "metadata": {
        "id": "LoV6kgj8FEVT",
        "outputId": "07a28d47-ad87-48d2-8a3c-6cb6e056c4ff",
        "colab": {
          "base_uri": "https://localhost:8080/"
        }
      },
      "execution_count": null,
      "outputs": [
        {
          "output_type": "stream",
          "name": "stdout",
          "text": [
            "[[9]\n",
            " [6]\n",
            " [4]]\n"
          ]
        }
      ]
    },
    {
      "cell_type": "code",
      "source": [
        "A = np.array([[2, 3, 4, 5, 6,7, 8],\n",
        "              [4, 2, 5, 6, 44, 32, 2],\n",
        "              [-1, 2, 2, 3,4,23, 22],\n",
        "              [-10, 22, 21, 34,42,24, 28],\n",
        "              [-11, 23, 25, 32,47,27, 29]])\n",
        "\n",
        "B = np.array([[8],\n",
        "              [-11],\n",
        "              [-3],\n",
        "              [5],\n",
        "              [7]])\n",
        "A = np.hstack((A,B))\n",
        "\n",
        "print(A)"
      ],
      "metadata": {
        "id": "2shH-YbzIHUT",
        "colab": {
          "base_uri": "https://localhost:8080/"
        },
        "outputId": "f105c682-67e8-4721-b9dd-97eb8475c977"
      },
      "execution_count": 3,
      "outputs": [
        {
          "output_type": "stream",
          "name": "stdout",
          "text": [
            "[[  2   3   4   5   6   7   8   8]\n",
            " [  4   2   5   6  44  32   2 -11]\n",
            " [ -1   2   2   3   4  23  22  -3]\n",
            " [-10  22  21  34  42  24  28   5]\n",
            " [-11  23  25  32  47  27  29   7]]\n"
          ]
        }
      ]
    },
    {
      "cell_type": "code",
      "source": [
        "def add_two_rows(A,r1,r2,s):\n",
        "  A[r2, :] = A[r2, :] + A[r1, :] * s\n",
        "  print(\"Adding\")\n",
        "  return A\n"
      ],
      "metadata": {
        "id": "HNYccP4CFU2a"
      },
      "execution_count": 4,
      "outputs": []
    },
    {
      "cell_type": "code",
      "source": [
        "def swap_two_rows(A,r1,r2):\n",
        "\n",
        "  A[[r2, r1]] = A[[r1, r2]]\n",
        "  print(\"Swapping\")\n",
        "  return A\n"
      ],
      "metadata": {
        "id": "yCY-uqITpA9J"
      },
      "execution_count": 5,
      "outputs": []
    },
    {
      "cell_type": "code",
      "source": [
        "def REF(A):\n",
        "  for i in range(A.shape[1]):\n",
        "    for j in range(i, A.shape[0]-1):\n",
        "      # print(\"Cell Element: \", A[j][i])\n",
        "      if A[j][i] == 0:\n",
        "        l = j+1;\n",
        "        while l<A.shape[0]:\n",
        "          if A[l][i] != 0:\n",
        "            A = swap_two_rows(A, j, l)\n",
        "            j=j-1;\n",
        "            l=A.shape[0];\n",
        "            break;\n",
        "          l+=1;\n",
        "          # print(\"L iteration:\", l)\n",
        "\n",
        "      A = add_two_rows(A,i,j+1,-A[j+1][i]/A[i][i]) #A,0,2,-(-2)/\n",
        "\n",
        "  print(A)\n",
        "  return A"
      ],
      "metadata": {
        "id": "X0M57BAEKokL"
      },
      "execution_count": 6,
      "outputs": []
    },
    {
      "cell_type": "code",
      "source": [
        "def RREF(A):\n",
        "  for i in range(A.shape[1]):\n",
        "    if i<A.shape[0]:\n",
        "      if A[i][i] == 0:\n",
        "        break;\n",
        "      else:\n",
        "        A[i,:] = A[i,:]/A[i][i]\n",
        "\n",
        "  print(A)\n",
        "  return A"
      ],
      "metadata": {
        "id": "CN6q9UQ7tyUE"
      },
      "execution_count": 7,
      "outputs": []
    },
    {
      "cell_type": "code",
      "source": [
        "REF_matrix = REF(A)"
      ],
      "metadata": {
        "colab": {
          "base_uri": "https://localhost:8080/"
        },
        "id": "E0yQPjkkgUhG",
        "outputId": "23439274-29be-4b67-924c-5a1bdbfd93d2"
      },
      "execution_count": 8,
      "outputs": [
        {
          "output_type": "stream",
          "name": "stdout",
          "text": [
            "Adding\n",
            "Swapping\n",
            "Adding\n",
            "Swapping\n",
            "Adding\n",
            "Swapping\n",
            "Adding\n",
            "Adding\n",
            "Swapping\n",
            "Adding\n",
            "Swapping\n",
            "Adding\n",
            "Adding\n",
            "Swapping\n",
            "Adding\n",
            "Adding\n",
            "[[   2    3    4    5    6    7    8    8]\n",
            " [   0    3    4    5    7   26   26    1]\n",
            " [   0    0   -5   -6  -11 -273 -265   38]\n",
            " [   0    0    0    7    3  175  172  -28]\n",
            " [   0    0    0    0   36  -57  -86   -9]]\n"
          ]
        }
      ]
    },
    {
      "cell_type": "code",
      "source": [
        "RREF_matrix = RREF(A)"
      ],
      "metadata": {
        "id": "O_u_z52c5Y3k",
        "outputId": "4dec6e56-40d1-4b05-811a-deda7005fb77",
        "colab": {
          "base_uri": "https://localhost:8080/"
        }
      },
      "execution_count": 9,
      "outputs": [
        {
          "output_type": "stream",
          "name": "stdout",
          "text": [
            "[[ 1  1  2  2  3  3  4  4]\n",
            " [ 0  1  1  1  2  8  8  0]\n",
            " [ 0  0  1  1  2 54 53 -7]\n",
            " [ 0  0  0  1  0 25 24 -4]\n",
            " [ 0  0  0  0  1 -1 -2  0]]\n"
          ]
        }
      ]
    },
    {
      "cell_type": "code",
      "source": [
        "def pivot_and_nonpivot_columns(A):\n",
        "  non_pivot_column = [] ;\n",
        "  pivot_column = [] ;\n",
        "  rows = A.shape[0]\n",
        "  for i in range(A.shape[1]):\n",
        "    if i<rows and A[i][i] == 1:\n",
        "      pivot_column.append(i);\n",
        "    else:\n",
        "      non_pivot_column.append(i);\n",
        "\n",
        "  return pivot_column, non_pivot_column;\n",
        "\n"
      ],
      "metadata": {
        "id": "L01vAtjsBf2B"
      },
      "execution_count": 10,
      "outputs": []
    },
    {
      "cell_type": "code",
      "source": [
        "pivot_column, non_pivot_column = pivot_and_nonpivot_columns(A)\n",
        "print(\"Pivot columns: \", pivot_column, \" and Non Pivot columns: \", non_pivot_column);"
      ],
      "metadata": {
        "id": "fM3sXMsTCN6K",
        "outputId": "29772441-37e1-4fdf-dc50-9d5bfcd6f0ee",
        "colab": {
          "base_uri": "https://localhost:8080/"
        }
      },
      "execution_count": 11,
      "outputs": [
        {
          "output_type": "stream",
          "name": "stdout",
          "text": [
            "Pivot columns:  [0, 1, 2, 3, 4]  and Non Pivot columns:  [5, 6, 7]\n"
          ]
        }
      ]
    },
    {
      "cell_type": "code",
      "source": [
        "def particular_sol(A):\n",
        "  b_matrix = A[:, -1]\n",
        "  Col = A.shape[1]\n",
        "  particular_sol = [0] * Col\n",
        "  for i, col in enumerate(pivot_column):\n",
        "      particular_sol[col] = b_matrix[i]\n",
        "\n",
        "  return particular_sol\n"
      ],
      "metadata": {
        "id": "JqR0KEmcIVUL"
      },
      "execution_count": 12,
      "outputs": []
    },
    {
      "cell_type": "code",
      "source": [
        "p_sol= particular_sol(A)\n",
        "print(\"Particular Solution for matrix A: \", p_sol)"
      ],
      "metadata": {
        "id": "wnjFqcTyIjlc",
        "outputId": "7aefd538-000e-495d-a01d-1c98e34fe843",
        "colab": {
          "base_uri": "https://localhost:8080/"
        }
      },
      "execution_count": 13,
      "outputs": [
        {
          "output_type": "stream",
          "name": "stdout",
          "text": [
            "Particular Solution for matrix A:  [4, 0, -7, -4, 0, 0, 0, 0]\n"
          ]
        }
      ]
    },
    {
      "cell_type": "code",
      "source": [
        "def general_sol(A, pc, npc):\n",
        "  row = A.shape[0]\n",
        "  col = A.shape[1]\n",
        "  g_sol = []\n",
        "\n",
        "  for i in range(len(npc)):\n",
        "    g_sol.append([0]*col)\n",
        "\n",
        "  for r,c in enumerate(npc):\n",
        "    g_sol[r][c] = 1\n",
        "    for p_row in range(row):\n",
        "      if p_row !=0:\n",
        "        coef = -A[p_row][c]\n",
        "        for p_col in pc:\n",
        "          g_sol[r][p_col]+= coef * A[p_row][p_col]\n",
        "\n",
        "  return g_sol"
      ],
      "metadata": {
        "id": "X1jv86az1S_9"
      },
      "execution_count": 17,
      "outputs": []
    },
    {
      "cell_type": "code",
      "source": [
        "g_sol = general_sol(A, pivot_column, non_pivot_column)"
      ],
      "metadata": {
        "id": "DhF0k2tC2Z1M"
      },
      "execution_count": 18,
      "outputs": []
    },
    {
      "cell_type": "code",
      "source": [
        "print(g_sol)"
      ],
      "metadata": {
        "id": "Jp4D2E0M28CZ",
        "outputId": "b1f876b7-ff45-42b7-aaa8-71d7272ac46d",
        "colab": {
          "base_uri": "https://localhost:8080/"
        }
      },
      "execution_count": 19,
      "outputs": [
        {
          "output_type": "stream",
          "name": "stdout",
          "text": [
            "[[0, -8, -62, -87, -123, 1, 0, 0], [0, -8, -61, -85, -120, 0, 1, 0], [0, 0, 7, 11, 14, 0, 0, 1]]\n"
          ]
        }
      ]
    },
    {
      "cell_type": "code",
      "source": [],
      "metadata": {
        "id": "o7tJJyuq2-jG"
      },
      "execution_count": null,
      "outputs": []
    }
  ]
}