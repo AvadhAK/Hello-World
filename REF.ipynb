{
  "nbformat": 4,
  "nbformat_minor": 0,
  "metadata": {
    "colab": {
      "provenance": [],
      "include_colab_link": true
    },
    "kernelspec": {
      "name": "python3",
      "display_name": "Python 3"
    },
    "language_info": {
      "name": "python"
    }
  },
  "cells": [
    {
      "cell_type": "markdown",
      "metadata": {
        "id": "view-in-github",
        "colab_type": "text"
      },
      "source": [
        "<a href=\"https://colab.research.google.com/github/AvadhAK/Hello-World/blob/master/REF.ipynb\" target=\"_parent\"><img src=\"https://colab.research.google.com/assets/colab-badge.svg\" alt=\"Open In Colab\"/></a>"
      ]
    },
    {
      "cell_type": "code",
      "source": [
        "\n",
        "!pip install numpy\n",
        "import numpy as np"
      ],
      "metadata": {
        "id": "s-cc_MYIFOxr"
      },
      "execution_count": null,
      "outputs": []
    },
    {
      "cell_type": "code",
      "execution_count": 61,
      "metadata": {
        "id": "HRrV5Q-NKsX3",
        "outputId": "a6e48c0e-276b-422b-e308-061176587555",
        "colab": {
          "base_uri": "https://localhost:8080/"
        }
      },
      "outputs": [
        {
          "output_type": "stream",
          "name": "stdout",
          "text": [
            "[[2 4 8 1]\n",
            " [2 1 1 3]\n",
            " [5 9 0 8]]\n"
          ]
        }
      ],
      "source": [
        "# prompt: generate random array of vectors (integer) of size m*n and print\n",
        "\n",
        "m = 3\n",
        "n = 4\n",
        "l = 1\n",
        "A = np.random.randint(0, 10, size=(m, n))\n",
        "B = np.random.randint(0,10, size=(m,l))\n",
        "print(A)\n",
        "\n"
      ]
    },
    {
      "cell_type": "code",
      "source": [
        "print(B)"
      ],
      "metadata": {
        "id": "LoV6kgj8FEVT",
        "outputId": "ba042550-de27-4207-bed9-5a62472370c2",
        "colab": {
          "base_uri": "https://localhost:8080/"
        }
      },
      "execution_count": 7,
      "outputs": [
        {
          "output_type": "stream",
          "name": "stdout",
          "text": [
            "[[5]\n",
            " [7]\n",
            " [9]]\n"
          ]
        }
      ]
    },
    {
      "cell_type": "code",
      "source": [
        "A = np.array([[2.0, 1, -1],\n",
        "              [-3, -1, 2],\n",
        "              [-2, 1, 2]])\n",
        "\n",
        "B = np.array([[8],\n",
        "              [-11],\n",
        "              [-3]])\n"
      ],
      "metadata": {
        "id": "2shH-YbzIHUT"
      },
      "execution_count": 59,
      "outputs": []
    },
    {
      "cell_type": "code",
      "source": [
        "A[1, :] + A[0,:]*3/2"
      ],
      "metadata": {
        "id": "dtzd-V_iFpsL",
        "outputId": "63a9469c-ce27-4a00-ec6f-0eb71e6d7cd3",
        "colab": {
          "base_uri": "https://localhost:8080/"
        }
      },
      "execution_count": 52,
      "outputs": [
        {
          "output_type": "execute_result",
          "data": {
            "text/plain": [
              "array([0. , 0.5, 0.5])"
            ]
          },
          "metadata": {},
          "execution_count": 52
        }
      ]
    },
    {
      "cell_type": "code",
      "source": [
        "A.shape[0]"
      ],
      "metadata": {
        "id": "OgrIqKVSJlLE",
        "outputId": "ca7984bf-4563-4b89-a7f2-c0553d260447",
        "colab": {
          "base_uri": "https://localhost:8080/"
        }
      },
      "execution_count": 22,
      "outputs": [
        {
          "output_type": "execute_result",
          "data": {
            "text/plain": [
              "3"
            ]
          },
          "metadata": {},
          "execution_count": 22
        }
      ]
    },
    {
      "cell_type": "code",
      "source": [
        "# prompt: write a function to add first row to second row in A matrix\n",
        "\n",
        "def add_two_rows(A,r1,r2,s):\n",
        "  A[r2, :] = A[r2, :] + A[r1, :] * s\n",
        "  return A\n"
      ],
      "metadata": {
        "id": "HNYccP4CFU2a"
      },
      "execution_count": 43,
      "outputs": []
    },
    {
      "cell_type": "code",
      "source": [
        "for i in range(A.shape[1]):\n",
        "  for j in range(A.shape[0]-1):\n",
        "      A = add_two_rows(A,i,j+1,-A[j+1][i]/A[i][i]) #A,0,2,-(-2)/\n",
        "print(A)"
      ],
      "metadata": {
        "id": "X0M57BAEKokL",
        "outputId": "5683b6b0-5531-4f18-9e51-90aa8f5e93d4",
        "colab": {
          "base_uri": "https://localhost:8080/",
          "height": 297
        }
      },
      "execution_count": 62,
      "outputs": [
        {
          "output_type": "stream",
          "name": "stderr",
          "text": [
            "<ipython-input-62-3158ac1caf4c>:3: RuntimeWarning: divide by zero encountered in long_scalars\n",
            "  A = add_two_rows(A,i,j+1,-A[j+1][i]/A[i][i]) #A,0,2,-(-2)/\n",
            "<ipython-input-43-4937dc5c2b57>:4: RuntimeWarning: invalid value encountered in multiply\n",
            "  A[r2, :] = A[r2, :] + A[r1, :] * s\n"
          ]
        },
        {
          "output_type": "error",
          "ename": "IndexError",
          "evalue": "ignored",
          "traceback": [
            "\u001b[0;31m---------------------------------------------------------------------------\u001b[0m",
            "\u001b[0;31mIndexError\u001b[0m                                Traceback (most recent call last)",
            "\u001b[0;32m<ipython-input-62-3158ac1caf4c>\u001b[0m in \u001b[0;36m<cell line: 1>\u001b[0;34m()\u001b[0m\n\u001b[1;32m      1\u001b[0m \u001b[0;32mfor\u001b[0m \u001b[0mi\u001b[0m \u001b[0;32min\u001b[0m \u001b[0mrange\u001b[0m\u001b[0;34m(\u001b[0m\u001b[0mA\u001b[0m\u001b[0;34m.\u001b[0m\u001b[0mshape\u001b[0m\u001b[0;34m[\u001b[0m\u001b[0;36m1\u001b[0m\u001b[0;34m]\u001b[0m\u001b[0;34m)\u001b[0m\u001b[0;34m:\u001b[0m\u001b[0;34m\u001b[0m\u001b[0;34m\u001b[0m\u001b[0m\n\u001b[1;32m      2\u001b[0m   \u001b[0;32mfor\u001b[0m \u001b[0mj\u001b[0m \u001b[0;32min\u001b[0m \u001b[0mrange\u001b[0m\u001b[0;34m(\u001b[0m\u001b[0mA\u001b[0m\u001b[0;34m.\u001b[0m\u001b[0mshape\u001b[0m\u001b[0;34m[\u001b[0m\u001b[0;36m0\u001b[0m\u001b[0;34m]\u001b[0m\u001b[0;34m-\u001b[0m\u001b[0;36m1\u001b[0m\u001b[0;34m)\u001b[0m\u001b[0;34m:\u001b[0m\u001b[0;34m\u001b[0m\u001b[0;34m\u001b[0m\u001b[0m\n\u001b[0;32m----> 3\u001b[0;31m       \u001b[0mA\u001b[0m \u001b[0;34m=\u001b[0m \u001b[0madd_two_rows\u001b[0m\u001b[0;34m(\u001b[0m\u001b[0mA\u001b[0m\u001b[0;34m,\u001b[0m\u001b[0mi\u001b[0m\u001b[0;34m,\u001b[0m\u001b[0mj\u001b[0m\u001b[0;34m+\u001b[0m\u001b[0;36m1\u001b[0m\u001b[0;34m,\u001b[0m\u001b[0;34m-\u001b[0m\u001b[0mA\u001b[0m\u001b[0;34m[\u001b[0m\u001b[0mj\u001b[0m\u001b[0;34m+\u001b[0m\u001b[0;36m1\u001b[0m\u001b[0;34m]\u001b[0m\u001b[0;34m[\u001b[0m\u001b[0mi\u001b[0m\u001b[0;34m]\u001b[0m\u001b[0;34m/\u001b[0m\u001b[0mA\u001b[0m\u001b[0;34m[\u001b[0m\u001b[0mi\u001b[0m\u001b[0;34m]\u001b[0m\u001b[0;34m[\u001b[0m\u001b[0mi\u001b[0m\u001b[0;34m]\u001b[0m\u001b[0;34m)\u001b[0m \u001b[0;31m#A,0,2,-(-2)/\u001b[0m\u001b[0;34m\u001b[0m\u001b[0;34m\u001b[0m\u001b[0m\n\u001b[0m\u001b[1;32m      4\u001b[0m \u001b[0mprint\u001b[0m\u001b[0;34m(\u001b[0m\u001b[0mA\u001b[0m\u001b[0;34m)\u001b[0m\u001b[0;34m\u001b[0m\u001b[0;34m\u001b[0m\u001b[0m\n",
            "\u001b[0;31mIndexError\u001b[0m: index 3 is out of bounds for axis 0 with size 3"
          ]
        }
      ]
    },
    {
      "cell_type": "code",
      "source": [
        "for i in range(A.shape[1]):\n",
        "  for j in range(A.shape[0]):\n",
        "      A = add_two_rows(A,j,j+1)\n",
        "      print(A[j,:])"
      ],
      "metadata": {
        "id": "yT8T4L_oHnGL",
        "outputId": "6a93ee27-71a9-48a0-f83f-7a1d379aacf0",
        "colab": {
          "base_uri": "https://localhost:8080/"
        }
      },
      "execution_count": 25,
      "outputs": [
        {
          "output_type": "stream",
          "name": "stdout",
          "text": [
            "[ 2  1 -1]\n",
            "[-3 -1  2]\n",
            "[-2  1  2]\n",
            "[ 2  1 -1]\n",
            "[-3 -1  2]\n",
            "[-2  1  2]\n",
            "[ 2  1 -1]\n",
            "[-3 -1  2]\n",
            "[-2  1  2]\n"
          ]
        }
      ]
    }
  ]
}